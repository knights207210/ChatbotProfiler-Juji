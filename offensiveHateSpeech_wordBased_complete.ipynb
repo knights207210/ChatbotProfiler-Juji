{
 "cells": [
  {
   "cell_type": "code",
   "execution_count": 1,
   "metadata": {},
   "outputs": [],
   "source": [
    "import glob\n",
    "import tqdm\n",
    "from nltk import word_tokenize\n",
    "import spacy\n",
    "import string\n",
    "import pandas as pd\n",
    "import numpy as np\n",
    "from datetime import datetime\n",
    "import pickle\n",
    "import collections\n",
    "import argparse\n",
    "import os\n",
    "import json\n",
    "import time\n",
    "import logging\n",
    "import re\n",
    "from collections import Counter\n",
    "import string\n",
    "punctuations = list(string.punctuation)\n",
    "import warnings\n",
    "warnings.simplefilter(action='ignore')#, category=FutureWarning)"
   ]
  },
  {
   "cell_type": "code",
   "execution_count": 2,
   "metadata": {
    "code_folding": [
     0,
     48,
     102,
     139,
     170,
     223
    ]
   },
   "outputs": [],
   "source": [
    "def readFileNew_withTime(filename):\n",
    "    '''\n",
    "    This function is used to find out how much time a user would need to respond to a question\n",
    "    input: transcript file name\n",
    "    output: a list with timestamps within one transcript\n",
    "    e.g. ['2019-03-31 12:32', '2019-03-31 12:32', ...]\n",
    "    '''\n",
    "    f = open(filename,\"r\")\n",
    "    temp_list = []\n",
    "    c = 0\n",
    "    personName = ''\n",
    "    botName = ''\n",
    "    count = 0\n",
    "    for i, line in enumerate(f):\n",
    "        #print(line)\n",
    "        c+=1\n",
    "        if i==0:\n",
    "            indBotNameSt = line.find(']')+1\n",
    "            #first \":\" appears in the timestamp\n",
    "            indFirstCoBotName = line.find(':')\n",
    "            indSecondCoBotName = indFirstCoBotName + line[indFirstCoBotName+1:].find(':') + 1\n",
    "            botName = line[indBotNameSt:indSecondCoBotName].strip()\n",
    "                \n",
    "        elif not personName:            \n",
    "            indPersonNameSt = line.find(']')+1\n",
    "            indFirstCoPersonName = line.find(':')\n",
    "            indSecondCoPersonName = indFirstCoPersonName + line[indFirstCoPersonName+1:].find(':') + 1\n",
    "            tmpName = line[indPersonNameSt:indSecondCoPersonName].strip()\n",
    "            if tmpName != botName:\n",
    "                personName = tmpName\n",
    "                    \n",
    "        if line[1:3]=='20': #check if start with date\n",
    "            if '{' not in line:\n",
    "                indSentenceSt = line.find(']')+1\n",
    "                temp_list.append(line[:indSentenceSt])\n",
    "            else:\n",
    "                indSentenceSt = line.find(']')+1\n",
    "                if 'wording' in line:\n",
    "                    temp_text = line[line.find(':wording')+8 : line.find(':qid')]\n",
    "                    temp_list.append(line[:indSentenceSt])\n",
    "                    #temp_list.append(botName+': single or multi'+str(count)+'ple choice Q')\n",
    "                    count+=1\n",
    "                else:\n",
    "                    if botName not in line:\n",
    "                        temp_list.append(line[:indSentenceSt])\n",
    "            temp_list[-1] = temp_list[-1].rstrip('\\n')\n",
    "            \n",
    "    return temp_list\n",
    "def readFileNew(filename):\n",
    "    '''\n",
    "    input: transcript file name\n",
    "    output: a list contains all the text\n",
    "    e.g. ['Juji: Can you introduce yourself?', 'User: I love swimming', 'Juji: Thank you! Goodbye.']\n",
    "    '''\n",
    "    f = open(filename,\"r\")\n",
    "    temp_list = []\n",
    "    c = 0\n",
    "    personName = ''\n",
    "    botName = ''\n",
    "    count = 0\n",
    "    for i, line in enumerate(f):\n",
    "        #print(line)\n",
    "        c+=1\n",
    "        if i==0:\n",
    "            indBotNameSt = line.find(']')+1\n",
    "            #first \":\" appears in the timestamp\n",
    "            indFirstCoBotName = line.find(':')\n",
    "            indSecondCoBotName = indFirstCoBotName + line[indFirstCoBotName+1:].find(':') + 1\n",
    "            botName = line[indBotNameSt:indSecondCoBotName].strip()\n",
    "                \n",
    "        elif not personName:            \n",
    "            indPersonNameSt = line.find(']')+1\n",
    "            indFirstCoPersonName = line.find(':')\n",
    "            indSecondCoPersonName = indFirstCoPersonName + line[indFirstCoPersonName+1:].find(':') + 1\n",
    "            tmpName = line[indPersonNameSt:indSecondCoPersonName].strip()\n",
    "            if tmpName != botName:\n",
    "                personName = tmpName\n",
    "                    \n",
    "        if line[1:3]=='20': #check if start with date\n",
    "            if '{' not in line:\n",
    "                indSentenceSt = line.find(']')+2\n",
    "                temp_list.append(line[indSentenceSt:])\n",
    "            else:\n",
    "                if 'wording' in line:\n",
    "                    subline = line[line.find(':wording')+8 : ]\n",
    "                    temp_text = subline[:subline.index(',')]\n",
    "                    if '<' in temp_text and '>' in temp_text and '*' in temp_text:\n",
    "                        ind1, ind2 = temp_text.index('<'), temp_text.index('>')\n",
    "                        temp_text = temp_text[:ind1]+temp_text[ind2+1:]\n",
    "                        ind1, ind2 = temp_text.index('<'), temp_text.index('>')\n",
    "                        temp_text = temp_text[:ind1]+temp_text[ind2+1:]\n",
    "                        temp_text = temp_text.replace('*','')\n",
    "                    temp_list.append(botName + ': ' + temp_text)\n",
    "                    #temp_list.append(botName+': single or multi'+str(count)+'ple choice Q')\n",
    "                    count+=1\n",
    "                else:\n",
    "                    if botName not in line:\n",
    "                        temp_list.append(personName+': A')\n",
    "            temp_list[-1] = temp_list[-1].rstrip('\\n')\n",
    "            \n",
    "    return temp_list,count,botName\n",
    "#remove transcrips that do not chat\n",
    "def filterNonChattingTranscripts(transcripts_name):\n",
    "    '''\n",
    "    This function filters out empty transctipts\n",
    "    input: a list of transcript files names\n",
    "    output: \n",
    "        transcripts_afterFilter: a list with 'readFileNew' funtion's return value\n",
    "        transcripts_withTime_afterFilter: a list with 'readFileNew_withTime' function's return value\n",
    "        resbotName: bot's name\n",
    "    '''\n",
    "    all_transcripts = []\n",
    "    filtered_transcripts = []\n",
    "    \n",
    "    transcripts_afterFilter = []\n",
    "    count_choiceQuestions = []\n",
    "    transcripts_withTime_afterFilter = []\n",
    "    for i in range(len(transcripts_name)):\n",
    "        t,c,botName = readFileNew(transcripts_name[i])\n",
    "        t_time = readFileNew_withTime(transcripts_name[i])\n",
    "        if botName != '':\n",
    "            resbotName = botName\n",
    "        all_transcripts.append(t)\n",
    "        flag = True\n",
    "        for j in range(len(t)):\n",
    "            if not t[j].startswith(resbotName):\n",
    "                flag = False\n",
    "                break\n",
    "                \n",
    "        if flag:\n",
    "            filtered_transcripts.append(t)\n",
    "        else:\n",
    "            transcripts_afterFilter.append(t)\n",
    "            count_choiceQuestions.append(c)\n",
    "            \n",
    "            transcripts_withTime_afterFilter.append(t_time)\n",
    "    return transcripts_afterFilter, transcripts_withTime_afterFilter,resbotName\n",
    "\n",
    "#read from edn file to get question list\n",
    "def getQuestions(filename):\n",
    "    '''\n",
    "    input: edn file name\n",
    "    output: question list with punctuations removed\n",
    "    '''\n",
    "    QList = []\n",
    "    with open(filename) as f:\n",
    "        lines = f.readlines()\n",
    "        flag = 0\n",
    "        for line in lines:\n",
    "            if flag:\n",
    "                lBracket, rBracket = line.find('['), line.find(']')\n",
    "                question = line[lBracket+2:rBracket-1]\n",
    "                QList.append(question)\n",
    "                flag = 0\n",
    "                continue\n",
    "            if ':wording' in line and ';;' not in line:\n",
    "                flag = 1\n",
    "    for i in range(len(QList)):\n",
    "        if 'Are you working for' in QList[i]:\n",
    "            QList[i] = 'Are you working for?'\n",
    "    \n",
    "    for j in range(len(QList)):\n",
    "            QList[j]=QList[j].rstrip('\\r')\n",
    "            QList[j]=QList[j].replace(\"\\r\", \" \")\n",
    "            QList[j]=QList[j].strip()\n",
    "            QList[j] = ' '.join([k.strip(\"\".join(punctuations)) for k in word_tokenize(QList[j]) if k not in punctuations])\n",
    "        \n",
    "    return QList\n",
    "\n",
    "#get question blocks\n",
    "def groupQuestions(sentences,sentences_time,questions,botName):\n",
    "    '''\n",
    "    input: \n",
    "        sentences: the sentences list from \"readFileNew\" function's return value\n",
    "        sentences_time: the timestamp list from \"readFileNew_withTime\" function's return value\n",
    "        questions: question list\n",
    "        botName\n",
    "        \n",
    "    output: \n",
    "        questionDict: a dict with key = question in question list, value = conversation block under the key question\n",
    "        e.g {'q1': ['Juji: q1', 'User: answer to q1'], ...}\n",
    "        \n",
    "        questionDict_Time: a dict with key = question in question list, value = timestamp of the conversation block\n",
    "        e.g {'q1': ['timestamp1', 'timestampe2'], ...}\n",
    "    '''\n",
    "    #sentences = readFile(filename)\n",
    "    temp_list=[]\n",
    "    last= 0\n",
    "    lastq = 'starting'\n",
    "    #nlp = spacy.load('en_pytt_bertbaseuncased_lg')\n",
    "    Th = 0.7\n",
    "    questionDict = collections.OrderedDict()\n",
    "    questionDict_time = collections.OrderedDict()\n",
    "    for i in range(len(sentences)):\n",
    "        match = 0\n",
    "        if sentences[i].startswith(botName+':'):#[:5] == 'Juji:':\n",
    "            sen_rmPunct = ' '.join([i.strip(\"\".join(punctuations)) for i in word_tokenize(sentences[i].strip()) if i not in punctuations])\n",
    "            #print(sen_rmPunct)\n",
    "            for q in questions:\n",
    "                if q in sen_rmPunct:\n",
    "                    match = 1   \n",
    "                    \n",
    "                    if lastq in questionDict:\n",
    "                        questionDict[lastq] += sentences[last:i]\n",
    "                        questionDict_time[lastq] += sentences_time[last:i]\n",
    "                    else:\n",
    "                        questionDict[lastq] = sentences[last:i]\n",
    "                        questionDict_time[lastq] = sentences_time[last:i]\n",
    "                    lastq = q\n",
    "                    #temp_list.append(sentences[last:i])\n",
    "                    if \"Are you working for\" in q:\n",
    "                        lastq = \"Are you working for\"\n",
    "                    last = i\n",
    "\n",
    "    #temp_list.append(sentences[last:])\n",
    "    if lastq in questionDict:\n",
    "        questionDict[lastq] += sentences[last:]\n",
    "        questionDict_time[lastq] += sentences_time[last:]\n",
    "    else:\n",
    "        questionDict[lastq] = sentences[last:]\n",
    "        questionDict_time[lastq] = sentences_time[last:]\n",
    "    #print(questionDict)\n",
    "    return questionDict, questionDict_time#list(questionDict.values())\n",
    "def groupQuestions_csv(filename):\n",
    "    '''\n",
    "    input: \n",
    "        csv file name\n",
    "        \n",
    "    output: \n",
    "        qBlocks: a dict with key = question in question list, value = conversation block under the key question\n",
    "        e.g {'q1': ['Juji: q1', 'User: answer to q1'], ...}\n",
    "        qList: question list\n",
    "        \n",
    "    '''\n",
    "    df = pd.read_csv(filename,encoding='iso8859-1')\n",
    "    botName = 'Juji'\n",
    "    qBlocks = []\n",
    "    qList = df.columns.tolist()[5:]\n",
    "    finalQuestion = 'Any final thoughts?'\n",
    "    qList_normal = qList[:qList.index(finalQuestion)+1]\n",
    "    qList_addtional = qList[qList.index(finalQuestion)+1:]\n",
    "    \n",
    "    for i in range(len(df)):\n",
    "        block = collections.OrderedDict()\n",
    "        line = df.iloc[i]\n",
    "        if pd.isnull(line[qList_normal[0]]):\n",
    "            continue\n",
    "        for q in qList_normal:\n",
    "            if not pd.isnull(line[q]):\n",
    "                block[q] = [botName+':'+q, line['Name']+':'+str(line[q])]\n",
    "            #else:\n",
    "            #    block[q] = [botName+':'+q]\n",
    "            #    break\n",
    "        qBlocks.append(block)\n",
    "        \n",
    "    '''    \n",
    "    #remove punctuation in question list\n",
    "    for j in range(len(qList_normal)):\n",
    "            qList_normal[j]=qList_normal[j].rstrip('\\r')\n",
    "            qList_normal[j]=qList_normal[j].replace(\"\\r\", \" \")\n",
    "            qList_normal[j]=qList_normal[j].strip()\n",
    "            qList_normal[j] = ' '.join([k.strip(\"\".join(punctuations)) for k in word_tokenize(qList_normal[j]) if k not in punctuations])\n",
    "    for j in range(len(qList_addtional)):\n",
    "            qList_addtional[j]=qList_addtional[j].rstrip('\\r')\n",
    "            qList_addtional[j]=qList_addtional[j].replace(\"\\r\", \" \")\n",
    "            qList_addtional[j]=qList_addtional[j].strip()\n",
    "            qList_addtional[j] = ' '.join([k.strip(\"\".join(punctuations)) for k in word_tokenize(qList_addtional[j]) if k not in punctuations])\n",
    "    '''\n",
    "    return qBlocks,qList_normal"
   ]
  },
  {
   "cell_type": "code",
   "execution_count": 6,
   "metadata": {},
   "outputs": [],
   "source": []
  },
  {
   "cell_type": "code",
   "execution_count": null,
   "metadata": {},
   "outputs": [],
   "source": [
    "\n"
   ]
  },
  {
   "cell_type": "code",
   "execution_count": 17,
   "metadata": {
    "code_folding": []
   },
   "outputs": [],
   "source": [
    "def containHateWord(transcripts_blocks,botName):\n",
    "    '''\n",
    "    input:\n",
    "    transcripts_blocks: a list of dicts with key = question in question list, value = conversation block under the key question\n",
    "        e.g [{'q1': ['Juji: q1', 'User1: answer to q1'], ...}, {'q1': ['Juji: q1', 'User2: answer to q1'], ...} ... ]\n",
    "        botName\n",
    "    output: a dict with key=question, value = avg swear words frequency in the question related conversation blocks\n",
    "    '''\n",
    "    dic = collections.defaultdict(lambda: 0)\n",
    "    hateWord = collections.defaultdict(int)\n",
    "    with open('resource/Offensivewords.txt') as f: # ref: https://www.cs.cmu.edu/~biglou/resources/\n",
    "        offensiveWordList = f.readlines()\n",
    "    offensiveWordList = [x.rstrip('\\n') for x in offensiveWordList]\n",
    "    for block in transcripts_blocks:\n",
    "        for question in block:\n",
    "            botText = ''\n",
    "            #get full text from bot\n",
    "            for line in block[question]:\n",
    "                if line.startswith(botName):\n",
    "                    botText += line[line.find(':')+1:]\n",
    "            tokenized = word_tokenize(botText)\n",
    "            for word in offensiveWordList:\n",
    "                if word in tokenized:\n",
    "                    dic[question] += 1  \n",
    "                    print(word)\n",
    "                    print(botText)\n",
    "            #txt_tokens = tokenize_text_LIWC(botText)\n",
    "            # now flatmap over all the categories in all of the tokens using a generator:\n",
    "            #count_cat = Counter(category for token in txt_tokens for category in parser_LIWC(token))\n",
    "            #dic[question].append(count_cat['swear'])#percept\n",
    "    #for question in dic:\n",
    "    #    hateWord[question] = np.mean(dic[question])\n",
    "    return dic"
   ]
  },
  {
   "cell_type": "code",
   "execution_count": 10,
   "metadata": {},
   "outputs": [],
   "source": [
    "import matplotlib.pyplot as plt\n",
    "def visRes(qList, dic):\n",
    "    rate = [dic[q] for q in qList if q in dic]\n",
    "    question = [q for q in qList if q in dic]\n",
    "    plt.plot(question,rate)\n",
    "    plt.xticks(rotation=90)\n",
    "    plt.show()"
   ]
  },
  {
   "cell_type": "code",
   "execution_count": 11,
   "metadata": {
    "code_folding": [],
    "scrolled": true
   },
   "outputs": [],
   "source": [
    "def main(readCsv=False,csvFileName=None, transcriptFilesPath=None,qListPath=None):\n",
    "    if readCsv:\n",
    "        transcripts_blocks,q = groupQuestions_csv(csvFileName)\n",
    "        botName = 'Juji'\n",
    "    else:\n",
    "        transcripts_blocks = []\n",
    "        transcripts_name = glob.glob(transcriptFilesPath)\n",
    "        transcripts_afterFilter, transcripts_withTime_afterFilter,botName = filterNonChattingTranscripts(transcripts_name)\n",
    "        q = getQuestions(qListPath)\n",
    "        for i in tqdm.tqdm_notebook(range(len(transcripts_afterFilter))):\n",
    "            trans_block, trans_block_time = groupQuestions(transcripts_afterFilter[i],transcripts_withTime_afterFilter[i],q,botName)\n",
    "            transcripts_blocks.append(trans_block)\n",
    "    offensiveLevel = containHateWord(transcripts_blocks,botName)\n",
    "    visRes(q, offensiveLevel)\n",
    "    return offensiveLevel"
   ]
  },
  {
   "cell_type": "code",
   "execution_count": 12,
   "metadata": {},
   "outputs": [
    {
     "data": {
      "image/png": "[encoded data removed]",
      "text/plain": [
       "<Figure size 432x288 with 1 Axes>"
      ]
     },
     "metadata": {},
     "output_type": "display_data"
    }
   ],
   "source": [
    "#if input is a csv file\n",
    "offensive = main(True,'test-set/gamer.csv')"
   ]
  },
  {
   "cell_type": "code",
   "execution_count": 13,
   "metadata": {
    "scrolled": true
   },
   "outputs": [
    {
     "data": {
      "text/plain": [
       "defaultdict(<function __main__.containHateWord.<locals>.<lambda>>, {})"
      ]
     },
     "execution_count": 13,
     "metadata": {},
     "output_type": "execute_result"
    }
   ],
   "source": [
    "offensive"
   ]
  },
  {
   "cell_type": "code",
   "execution_count": 25,
   "metadata": {},
   "outputs": [
    {
     "data": {
      "application/vnd.jupyter.widget-view+json": {
       "model_id": "205197cf66504fde80e9b475075c4560",
       "version_major": 2,
       "version_minor": 0
      },
      "text/plain": [
       "HBox(children=(FloatProgress(value=0.0, max=492.0), HTML(value='')))"
      ]
     },
     "metadata": {},
     "output_type": "display_data"
    },
    {
     "name": "stdout",
     "output_type": "stream",
     "text": [
      "\n",
      "hell\n",
      " You might have said it already, if you did, just text skip. Otherwise, where did you hear about us? Although I might be biased, I'd say hell is a reliable source of information. This is my last question - your answer may help me improve.\n",
      "kill\n",
      " In my spare time, I love to chat with my sisters and brothers. What do you enjoy doing in your spare time? I guess we have that in common. I can be an AI companion, chatting with humans to kill time :-) Okay. Could we go back to our question?   What do you enjoy doing in your spare time? I'm really happy for you that you spend time with your friends, who would not want to do so? Oh, I almost forget… I should have said earlier I am still an AI baby far from perfect, so I might hiccup in our chat.\n"
     ]
    },
    {
     "data": {
      "image/png": "[encoded data removed]",
      "text/plain": [
       "<Figure size 432x288 with 1 Axes>"
      ]
     },
     "metadata": {},
     "output_type": "display_data"
    }
   ],
   "source": [
    "#if input is transcripts\n",
    "offensiveLevel = main(False,None,'test-set/welcome-transcripts/*.txt','test-set/welcome.edn')"
   ]
  },
  {
   "cell_type": "code",
   "execution_count": 26,
   "metadata": {
    "scrolled": true
   },
   "outputs": [
    {
     "data": {
      "text/plain": [
       "defaultdict(<function __main__.containHateWord.<locals>.<lambda>>,\n",
       "            {'In my spare time I love to chat with my sisters and brothers What do you enjoy doing in your spare time': 1,\n",
       "             'You might have said it already if you did just text skip Otherwise where did you hear about us': 1})"
      ]
     },
     "execution_count": 26,
     "metadata": {},
     "output_type": "execute_result"
    }
   ],
   "source": [
    "offensiveLevel"
   ]
  },
  {
   "cell_type": "code",
   "execution_count": null,
   "metadata": {},
   "outputs": [],
   "source": []
  },
  {
   "cell_type": "code",
   "execution_count": null,
   "metadata": {},
   "outputs": [],
   "source": []
  }
 ],
 "metadata": {
  "kernelspec": {
   "display_name": "Python 3",
   "language": "python",
   "name": "python3"
  },
  "language_info": {
   "codemirror_mode": {
    "name": "ipython",
    "version": 3
   },
   "file_extension": ".py",
   "mimetype": "text/x-python",
   "name": "python",
   "nbconvert_exporter": "python",
   "pygments_lexer": "ipython3",
   "version": "3.6.7"
  },
  "toc": {
   "base_numbering": 1,
   "nav_menu": {},
   "number_sections": true,
   "sideBar": true,
   "skip_h1_title": false,
   "title_cell": "Table of Contents",
   "title_sidebar": "Contents",
   "toc_cell": false,
   "toc_position": {},
   "toc_section_display": true,
   "toc_window_display": false
  }
 },
 "nbformat": 4,
 "nbformat_minor": 2
}
